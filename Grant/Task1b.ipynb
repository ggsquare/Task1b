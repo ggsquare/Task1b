{
 "cells": [
  {
   "cell_type": "markdown",
   "metadata": {},
   "source": [
    "### Task1b Regression with Feature Transformation"
   ]
  },
  {
   "cell_type": "code",
   "execution_count": 1,
   "metadata": {},
   "outputs": [],
   "source": [
    "import pandas as pd\n",
    "import numpy as np\n",
    "import matplotlib.pyplot as plt\n",
    "from sklearn import datasets, linear_model\n",
    "from sklearn.linear_model import Ridge, Lasso\n",
    "from sklearn.metrics import mean_squared_error\n",
    "from sklearn.model_selection import train_test_split\n",
    "from sklearn.model_selection import KFold"
   ]
  },
  {
   "cell_type": "code",
   "execution_count": 2,
   "metadata": {},
   "outputs": [
    {
     "data": {
      "text/html": [
       "<div>\n",
       "<style scoped>\n",
       "    .dataframe tbody tr th:only-of-type {\n",
       "        vertical-align: middle;\n",
       "    }\n",
       "\n",
       "    .dataframe tbody tr th {\n",
       "        vertical-align: top;\n",
       "    }\n",
       "\n",
       "    .dataframe thead th {\n",
       "        text-align: right;\n",
       "    }\n",
       "</style>\n",
       "<table border=\"1\" class=\"dataframe\">\n",
       "  <thead>\n",
       "    <tr style=\"text-align: right;\">\n",
       "      <th></th>\n",
       "      <th>Id</th>\n",
       "      <th>y</th>\n",
       "      <th>x1</th>\n",
       "      <th>x2</th>\n",
       "      <th>x3</th>\n",
       "      <th>x4</th>\n",
       "      <th>x5</th>\n",
       "    </tr>\n",
       "  </thead>\n",
       "  <tbody>\n",
       "    <tr>\n",
       "      <th>0</th>\n",
       "      <td>0</td>\n",
       "      <td>-7.912551</td>\n",
       "      <td>1.276266</td>\n",
       "      <td>-0.854628</td>\n",
       "      <td>1.623901</td>\n",
       "      <td>2.145311</td>\n",
       "      <td>2.037190</td>\n",
       "    </tr>\n",
       "    <tr>\n",
       "      <th>1</th>\n",
       "      <td>1</td>\n",
       "      <td>-5.728060</td>\n",
       "      <td>2.886639</td>\n",
       "      <td>0.888302</td>\n",
       "      <td>0.637899</td>\n",
       "      <td>1.148675</td>\n",
       "      <td>0.562217</td>\n",
       "    </tr>\n",
       "    <tr>\n",
       "      <th>2</th>\n",
       "      <td>2</td>\n",
       "      <td>-29.524046</td>\n",
       "      <td>3.171257</td>\n",
       "      <td>2.152310</td>\n",
       "      <td>-0.818812</td>\n",
       "      <td>0.861951</td>\n",
       "      <td>1.539840</td>\n",
       "    </tr>\n",
       "    <tr>\n",
       "      <th>3</th>\n",
       "      <td>3</td>\n",
       "      <td>-22.108731</td>\n",
       "      <td>-0.775282</td>\n",
       "      <td>2.314877</td>\n",
       "      <td>0.526552</td>\n",
       "      <td>-0.092230</td>\n",
       "      <td>0.749973</td>\n",
       "    </tr>\n",
       "    <tr>\n",
       "      <th>4</th>\n",
       "      <td>4</td>\n",
       "      <td>-15.234738</td>\n",
       "      <td>0.017706</td>\n",
       "      <td>2.031269</td>\n",
       "      <td>1.491334</td>\n",
       "      <td>0.553353</td>\n",
       "      <td>0.193640</td>\n",
       "    </tr>\n",
       "  </tbody>\n",
       "</table>\n",
       "</div>"
      ],
      "text/plain": [
       "   Id          y        x1        x2        x3        x4        x5\n",
       "0   0  -7.912551  1.276266 -0.854628  1.623901  2.145311  2.037190\n",
       "1   1  -5.728060  2.886639  0.888302  0.637899  1.148675  0.562217\n",
       "2   2 -29.524046  3.171257  2.152310 -0.818812  0.861951  1.539840\n",
       "3   3 -22.108731 -0.775282  2.314877  0.526552 -0.092230  0.749973\n",
       "4   4 -15.234738  0.017706  2.031269  1.491334  0.553353  0.193640"
      ]
     },
     "execution_count": 2,
     "metadata": {},
     "output_type": "execute_result"
    }
   ],
   "source": [
    "df = pd.read_csv('./train.csv')\n",
    "df.head(5)"
   ]
  },
  {
   "cell_type": "code",
   "execution_count": 3,
   "metadata": {},
   "outputs": [],
   "source": [
    "y = df['y']\n",
    "X = df._drop_axis(['Id','y'], axis=1)\n",
    "\n",
    "#switch to numpy for the functions\n",
    "y = np.array(y)\n",
    "X = np.array(X)\n",
    "\n",
    "#useful variables\n",
    "num_rows, num_cols = X.shape "
   ]
  },
  {
   "cell_type": "code",
   "execution_count": 4,
   "metadata": {},
   "outputs": [
    {
     "name": "stdout",
     "output_type": "stream",
     "text": [
      "(900, 5) (900, 5) (900, 5) (900, 5) (900, 20)\n",
      "(900, 21)\n"
     ]
    }
   ],
   "source": [
    "#feature transormations\n",
    "X_quad = np.square(X)\n",
    "X_exp = np.exp(X)\n",
    "X_cos = np.cos(X)\n",
    "X_const = np.ones((num_rows, 20))\n",
    "\n",
    "#concatenate all these transformations into transformed X\n",
    "print(X.shape, X_quad.shape, X_exp.shape, X_cos.shape, X_const.shape)\n",
    "X = np.concatenate((X, X_quad, X_exp, X_cos, X_const),axis=1)\n",
    "\n",
    "#For some reason, it is impossible to append vector to numpy array, only matrix of same col\n",
    "X_transformed = X[:,0:21]\n",
    "print(X_transformed.shape)"
   ]
  },
  {
   "cell_type": "code",
   "execution_count": 5,
   "metadata": {},
   "outputs": [
    {
     "data": {
      "text/plain": [
       "1.0"
      ]
     },
     "execution_count": 5,
     "metadata": {},
     "output_type": "execute_result"
    }
   ],
   "source": [
    "#Set up regression\n",
    "k = 10\n",
    "weights = np.empty(21) #9 folds so 9 models, 21 weights (w1...w21)\n",
    "i = 0\n",
    "j = 0\n",
    "rmse = 0\n",
    "min_rmse = 15343 #arbitrarily large\n",
    "min_lambda = 0\n",
    "lambdas = [.03, .05, .09, .1, .3, .5, .7, .9, 1, 3, 9]\n",
    "\n",
    "#Test if column of ones added\n",
    "X_transformed[0,20]"
   ]
  },
  {
   "cell_type": "markdown",
   "metadata": {},
   "source": [
    "### Now k-fold cross validation"
   ]
  },
  {
   "cell_type": "code",
   "execution_count": 6,
   "metadata": {},
   "outputs": [
    {
     "name": "stdout",
     "output_type": "stream",
     "text": [
      "RMSE:  10.83787022080987\n",
      "RMSE:  9.906227613815997\n",
      "Lambda:  0\n",
      "Lowest RMSE:  9.906227613815997\n"
     ]
    }
   ],
   "source": [
    "#Split into k folds, each fold contains 900/k rows\n",
    "kf = KFold(k)\n",
    "\n",
    "#for l in lambdas: \n",
    "for train_index, test_index in kf.split(X_transformed):\n",
    "    X_train, X_test = X_transformed[train_index], X_transformed[test_index]\n",
    "    y_train, y_test = y[train_index], y[test_index]\n",
    "\n",
    "    lasso = Lasso(alpha=.5)\n",
    "    lasso.fit(X_train, y_train)\n",
    "    y_pred = lasso.predict(X_test)\n",
    "\n",
    "    rmse = mean_squared_error(y_pred, y_test)**0.5\n",
    "\n",
    "    #if this rmse is lower, store the weights of this fitted model\n",
    "    if(rmse < min_rmse):\n",
    "        min_rmse = rmse\n",
    "        weights = lasso.coef_\n",
    "        print('RMSE: ', min_rmse)\n",
    "\n",
    "        i = i + 1\n",
    "    \n",
    "print('Lambda: ', min_lambda)\n",
    "print('Lowest RMSE: ', min_rmse)"
   ]
  },
  {
   "cell_type": "markdown",
   "metadata": {},
   "source": [
    "#### Already found min rmse for each k-fold step, now find min rmse for each lambda"
   ]
  },
  {
   "cell_type": "code",
   "execution_count": 7,
   "metadata": {},
   "outputs": [],
   "source": [
    "np.savetxt(\"submit.csv\", weights, delimiter=\",\")"
   ]
  },
  {
   "cell_type": "code",
   "execution_count": null,
   "metadata": {},
   "outputs": [],
   "source": []
  }
 ],
 "metadata": {
  "kernelspec": {
   "display_name": "Python 3",
   "language": "python",
   "name": "python3"
  },
  "language_info": {
   "codemirror_mode": {
    "name": "ipython",
    "version": 3
   },
   "file_extension": ".py",
   "mimetype": "text/x-python",
   "name": "python",
   "nbconvert_exporter": "python",
   "pygments_lexer": "ipython3",
   "version": "3.6.4"
  }
 },
 "nbformat": 4,
 "nbformat_minor": 2
}
